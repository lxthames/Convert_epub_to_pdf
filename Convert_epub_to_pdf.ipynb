{
  "nbformat": 4,
  "nbformat_minor": 0,
  "metadata": {
    "colab": {
      "provenance": [],
      "authorship_tag": "ABX9TyPtK6MzR43MJ0SaVgx4dHmH"
    },
    "kernelspec": {
      "name": "python3",
      "display_name": "Python 3"
    },
    "language_info": {
      "name": "python"
    }
  },
  "cells": [
    {
      "cell_type": "code",
      "source": [
        "import requests\n",
        "\n",
        "def convert_epub_to_pdf(epub_path, pdf_path, api_key):\n",
        "    url = 'https://api.cloudconvert.com/v2/convert'\n",
        "    headers = {'Authorization': f'Bearer {api_key}'}\n",
        "    payload = {\n",
        "        'inputformat': 'epub',\n",
        "        'outputformat': 'pdf',\n",
        "        'input': 'upload',\n",
        "        'file': open(epub_path, 'rb')\n",
        "    }\n",
        "    response = requests.post(url, headers=headers, files=payload)\n",
        "\n",
        "    if response.status_code == 200:\n",
        "        with open(pdf_path, 'wb') as f:\n",
        "            f.write(response.content)\n",
        "        print('Conversion successful')\n",
        "    else:\n",
        "        print('Conversion failed')\n",
        "\n",
        "# Usage example\n",
        "epub_file = 'input.epub'\n",
        "pdf_file = 'output.pdf'\n",
        "api_key = 'YOUR_API_KEY'\n",
        "\n",
        "convert_epub_to_pdf(epub_file, pdf_file, api_key)\n"
      ],
      "metadata": {
        "id": "oRfFqtaJahQg"
      },
      "execution_count": null,
      "outputs": []
    }
  ]
}