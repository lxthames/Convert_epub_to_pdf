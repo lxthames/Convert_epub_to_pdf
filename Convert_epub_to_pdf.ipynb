{
  "nbformat": 4,
  "nbformat_minor": 0,
  "metadata": {
    "colab": {
      "provenance": [],
      "authorship_tag": "ABX9TyOvSlGpMPNQvBlGu7XbBWcS"
    },
    "kernelspec": {
      "name": "python3",
      "display_name": "Python 3"
    },
    "language_info": {
      "name": "python"
    }
  },
  "cells": [
    {
      "cell_type": "code",
      "source": [
        "import requests\n",
        "\n",
        "def convert_epub_to_pdf(epub_path, pdf_path, api_key):\n",
        "    url = 'https://api.cloudconvert.com/v2/convert'\n",
        "    headers = {'Authorization': f'Bearer {api_key}'}\n",
        "    payload = {\n",
        "        'inputformat': 'epub',\n",
        "        'outputformat': 'pdf',\n",
        "        'input': 'upload',\n",
        "        'file': open(epub_path, 'rb')\n",
        "    }\n",
        "    response = requests.post(url, headers=headers, files=payload)\n",
        "\n",
        "    if response.status_code == 200:\n",
        "        with open(pdf_path, 'wb') as f:\n",
        "            f.write(response.content)\n",
        "        print('Conversion successful')\n",
        "    else:\n",
        "        print('Conversion failed')\n",
        "\n",
        "# Usage example\n",
        "epub_file = 'input.epub'\n",
        "pdf_file = 'output.pdf'\n",
        "api_key = 'YOUR_API_KEY'\n",
        "\n",
        "convert_epub_to_pdf(epub_file, pdf_file, api_key)\n"
      ],
      "metadata": {
        "id": "oRfFqtaJahQg"
      },
      "execution_count": null,
      "outputs": []
    },
    {
      "cell_type": "code",
      "source": [
        "import ebooklib\n",
        "from ebooklib import epub\n",
        "from fpdf import FPDF\n",
        "from PIL import Image\n",
        "import requests\n",
        "from io import BytesIO\n",
        "\n",
        "class EPUBtoPDFConverter:\n",
        "    def __init__(self, epub_path, pdf_path):\n",
        "        self.epub_path = epub_path\n",
        "        self.pdf_path = pdf_path\n",
        "        self.book = epub.read_epub(epub_path)\n",
        "        self.pdf = FPDF()\n",
        "\n",
        "    def convert(self):\n",
        "        self.parse_metadata()\n",
        "        self.process_chapters()\n",
        "        self.generate_pdf()\n",
        "\n",
        "    def parse_metadata(self):\n",
        "        metadata = self.book.get_metadata('DC', default=None)\n",
        "        if metadata:\n",
        "            title = metadata.get('title', '')\n",
        "            author = metadata.get('creator', '')\n",
        "            self.pdf.set_title(title)\n",
        "            self.pdf.set_author(author)\n",
        "\n",
        "    def process_chapters(self):\n",
        "        for item in self.book.get_items():\n",
        "            if isinstance(item, epub.EpubHtml):\n",
        "                title = item.title\n",
        "                content = item.content\n",
        "                self.pdf.add_page()\n",
        "                self.pdf.set_font(\"Arial\", size=12)\n",
        "                self.pdf.cell(0, 10, txt=title, ln=True)\n",
        "                self.pdf.multi_cell(0, 10, txt=content)\n",
        "\n",
        "                images = item.get_images()\n",
        "                for image in images:\n",
        "                    image_path = image[0]\n",
        "                    image_data = self.get_image_data(image_path)\n",
        "                    if image_data:\n",
        "                        self.add_image_to_pdf(image_data)\n",
        "\n",
        "    def get_image_data(self, image_path):\n",
        "        image_item = self.book.get_item_with_href(image_path)\n",
        "        if image_item:\n",
        "            image_data = image_item.get_content()\n",
        "            return image_data\n",
        "        return None\n",
        "\n",
        "    def add_image_to_pdf(self, image_data):\n",
        "        image_obj = Image.open(BytesIO(image_data))\n",
        "        image_width, image_height = image_obj.size\n",
        "        # Adjust the image size and add it to the PDF\n",
        "        self.pdf.image(image_obj, x=self.pdf.get_x(), y=self.pdf.get_y(), w=image_width, h=image_height)\n",
        "\n",
        "    def generate_pdf(self):\n",
        "        self.pdf.output(self.pdf_path)\n",
        "\n",
        "# Usage\n",
        "epub_path = 'path/to/input.epub'\n",
        "pdf_path = 'path/to/output.pdf'\n",
        "converter = EPUBtoPDFConverter(epub_path, pdf_path)\n",
        "converter.convert()\n"
      ],
      "metadata": {
        "id": "vhrMw9f9dXso"
      },
      "execution_count": null,
      "outputs": []
    },
    {
      "cell_type": "code",
      "source": [],
      "metadata": {
        "id": "a2Lx83lndeGm"
      },
      "execution_count": null,
      "outputs": []
    }
  ]
}